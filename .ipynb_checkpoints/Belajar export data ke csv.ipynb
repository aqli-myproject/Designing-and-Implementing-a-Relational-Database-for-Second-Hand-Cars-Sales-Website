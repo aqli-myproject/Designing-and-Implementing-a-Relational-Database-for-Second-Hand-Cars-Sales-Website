{
 "cells": [
  {
   "cell_type": "code",
   "execution_count": 5,
   "id": "2bd704f8-b99a-4d47-beb0-7713625522b3",
   "metadata": {},
   "outputs": [],
   "source": [
    "import csv\n",
    "import os"
   ]
  },
  {
   "cell_type": "code",
   "execution_count": 7,
   "id": "bbe0d05b-ad64-4bdb-a4a8-8af3d42235fb",
   "metadata": {},
   "outputs": [
    {
     "name": "stdout",
     "output_type": "stream",
     "text": [
      "File CSV telah dibuat di: C:\\Users\\Ervan\\Downloads\\car_product.csv\n"
     ]
    }
   ],
   "source": [
    "# Data extracted from the image\n",
    "data = [\n",
    "    [\"product_id\", \"brand\", \"model\", \"body_type\", \"year\", \"price\"],\n",
    "    [1, \"Toyota\", \"Toyota Yaris\", \"Hatchback\", 2016, 175000000],\n",
    "    [2, \"Toyota\", \"Toyota Yaris\", \"Hatchback\", 2018, 215000000],\n",
    "    [3, \"Toyota\", \"Toyota Yaris\", \"Hatchback\", 2014, 162000000],\n",
    "    [4, \"Toyota\", \"Toyota Yaris\", \"Hatchback\", 2020, 220000000],\n",
    "    [5, \"Toyota\", \"Toyota Yaris\", \"Hatchback\", 2012, 124000000],\n",
    "    [6, \"Toyota\", \"Toyota Yaris\", \"Hatchback\", 2019, 114000000],\n",
    "    [7, \"Toyota\", \"Toyota Agya\", \"Hatchback\", 2014, 97000000],\n",
    "    [8, \"Toyota\", \"Toyota Agya\", \"Hatchback\", 2016, 110000000],\n",
    "    [9, \"Toyota\", \"Toyota Agya\", \"Hatchback\", 2022, 155500000],\n",
    "    [10, \"Toyota\", \"Toyota Agya\", \"Hatchback\", 2017, 115500000],\n",
    "    [11, \"Toyota\", \"Toyota Calya\", \"Wagon\", 2019, 130000000],\n",
    "    [12, \"Toyota\", \"Toyota Calya\", \"Wagon\", 2020, 135000000],\n",
    "    [13, \"Toyota\", \"Toyota Calya\", \"Wagon\", 2015, 115500000],\n",
    "    [14, \"Toyota\", \"Toyota Calya\", \"Wagon\", 2016, 104000000],\n",
    "    [15, \"Daihatsu\", \"Daihatsu Ayla\", \"Hatchback\", 2013, 83000000],\n",
    "    [16, \"Daihatsu\", \"Daihatsu Ayla\", \"Hatchback\", 2017, 88000000],\n",
    "    [17, \"Daihatsu\", \"Daihatsu Ayla\", \"Hatchback\", 2015, 96000000],\n",
    "    [18, \"Daihatsu\", \"Daihatsu Ayla\", \"Hatchback\", 2019, 115000000],\n",
    "    [19, \"Daihatsu\", \"Daihatsu Ayla\", \"Hatchback\", 2014, 90000000],\n",
    "    [20, \"Daihatsu\", \"Daihatsu Terios\", \"SUV\", 2018, 201000000],\n",
    "    [21, \"Daihatsu\", \"Daihatsu Xenia\", \"MPV\", 2019, 170000000],\n",
    "    [22, \"Daihatsu\", \"Daihatsu Xenia\", \"MPV\", 2022, 220500000],\n",
    "    [23, \"Daihatsu\", \"Daihatsu Xenia\", \"MPV\", 2018, 159000000],\n",
    "    [24, \"Honda\", \"Honda Jazz\", \"Hatchback\", 2018, 236000000],\n",
    "    [25, \"Honda\", \"Honda Jazz\", \"Hatchback\", 2019, 250000000],\n",
    "    [26, \"Honda\", \"Honda Jazz\", \"Hatchback\", 2015, 192000000],\n",
    "    [27, \"Honda\", \"Honda Jazz\", \"Hatchback\", 2013, 178000000],\n",
    "    [28, \"Honda\", \"Honda CR-V\", \"SUV\", 2017, 345000000],\n",
    "    [29, \"Honda\", \"Honda CR-V\", \"SUV\", 2009, 116000000],\n",
    "    [30, \"Honda\", \"Honda CR-V\", \"SUV\", 2012, 398500000],\n",
    "    [31, \"Honda\", \"Honda Civic\", \"Hatchback\", 2018, 350000000],\n",
    "    [32, \"Honda\", \"Honda Civic\", \"Sedan\", 2013, 186000000],\n",
    "    [33, \"Honda\", \"Honda Civic\", \"Sedan\", 2015, 235000000],\n",
    "    [34, \"Honda\", \"Honda Civic\", \"Hatchback\", 2019, 397500000],\n",
    "    [35, \"Suzuki\", \"Suzuki Ertiga\", \"MPV\", 2015, 125000000],\n",
    "    [36, \"Suzuki\", \"Suzuki Ertiga\", \"MPV\", 2016, 168000000],\n",
    "    [37, \"Suzuki\", \"Suzuki Ertiga\", \"MPV\", 2018, 167000000]\n",
    "]\n",
    "\n",
    "# Gunakan path lengkap ke Downloads\n",
    "full_path = os.path.join(os.path.expanduser('~'), 'Downloads', 'car_product.csv')\n",
    "\n",
    "with open(full_path, 'w', newline='', encoding='utf-8') as file:\n",
    "    writer = csv.writer(file)\n",
    "    writer.writerows(data)\n",
    "\n",
    "print(f\"File CSV telah dibuat di: {full_path}\")"
   ]
  },
  {
   "cell_type": "code",
   "execution_count": 8,
   "id": "b1215f0e-7888-47c5-a370-36812506fc7a",
   "metadata": {},
   "outputs": [
    {
     "name": "stdout",
     "output_type": "stream",
     "text": [
      "File CSV telah dibuat di: C:\\Users\\Ervan\\Downloads\\city.csv\n"
     ]
    }
   ],
   "source": [
    "# Data kota\n",
    "data = [\n",
    "   ['city_id', 'city_name', 'latitude', 'longitude'],\n",
    "   [3171, 'Kota Jakarta Pusat', -6.186486, 106.834091],\n",
    "   [3172, 'Kota Jakarta Utara', -6.121435, 106.774124],\n",
    "   [3173, 'Kota Jakarta Barat', -6.1352, 106.813301],\n",
    "   [3174, 'Kota Jakarta Selatan', -6.300641, 106.814095],\n",
    "   [3175, 'Kota Jakarta Timur', -6.264451, 106.895859],\n",
    "   [3573, 'Kota Malang', -7.981894, 112.626503],\n",
    "   [3578, 'Kota Surabaya', -7.289166, 112.734398],\n",
    "   [3471, 'Kota Yogyakarta', -7.797224, 110.368797],\n",
    "   [3273, 'Kota Bandung', -6.9147444, 107.6098111],\n",
    "   [1371, 'Kota Padang', -0.95, 100.3530556],\n",
    "   [1375, 'Kota Bukittinggi', -0.3055556, 100.3691667],\n",
    "   [6471, 'Kota Balikpapan', -1.2635389, 116.8278833],\n",
    "   [6472, 'Kota Samarinda', -0.502183, 117.153801],\n",
    "   [7371, 'Kota Makassar', -5.1333333, 119.4166667],\n",
    "   [5171, 'Kota Denpasar', -8.65629, 115.222099]\n",
    "]\n",
    "\n",
    "# Simpan ke file CSV\n",
    "full_path = os.path.join(os.path.expanduser('~'), 'Downloads', 'city.csv')\n",
    "\n",
    "with open(full_path, 'w', newline='', encoding='utf-8') as file:\n",
    "   writer = csv.writer(file)\n",
    "   writer.writerows(data)\n",
    "\n",
    "print(f\"File CSV telah dibuat di: {full_path}\")"
   ]
  },
  {
   "cell_type": "code",
   "execution_count": null,
   "id": "eaf1581c-2fd2-4196-a69c-d4300861ce94",
   "metadata": {},
   "outputs": [],
   "source": []
  }
 ],
 "metadata": {
  "kernelspec": {
   "display_name": "Python 3 (ipykernel)",
   "language": "python",
   "name": "python3"
  },
  "language_info": {
   "codemirror_mode": {
    "name": "ipython",
    "version": 3
   },
   "file_extension": ".py",
   "mimetype": "text/x-python",
   "name": "python",
   "nbconvert_exporter": "python",
   "pygments_lexer": "ipython3",
   "version": "3.11.7"
  }
 },
 "nbformat": 4,
 "nbformat_minor": 5
}
